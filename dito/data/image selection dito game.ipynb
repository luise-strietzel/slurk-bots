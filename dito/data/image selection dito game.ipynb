{
 "cells": [
  {
   "cell_type": "markdown",
   "id": "24bd37ba",
   "metadata": {},
   "source": [
    "# Image Selection\n",
    "\n",
    "This notebook is used to select images to display in the game. There is a major difference in the selection according to the two different task formulations. **form1** is representing the formulation \"find the difference\", whereas **form2** represents the task question \"is there a difference?\"\n",
    "\n"
   ]
  },
  {
   "cell_type": "markdown",
   "id": "7915ac56",
   "metadata": {},
   "source": [
    "## If you want to run this code...\n",
    "Make sure you downloaded the original dataset from https://he-dhamo.github.io/SIMSG/ . This notebook works with the data found following the link in the third line under \"Downloads\". This notebook should be located in the unzipped folder **CLEVR_SIMSG**. Also, you need to create a folder **image_selection** with the subfolders **form1** and **form2** with the subfolders **source** and **target**. Of course you can just as well change the folder paths in the code respectively. "
   ]
  },
  {
   "cell_type": "code",
   "execution_count": 56,
   "id": "d8b18d52",
   "metadata": {},
   "outputs": [],
   "source": [
    "#imports\n",
    "from PIL import Image\n",
    "from random import random as rand\n",
    "from random import randint\n",
    "from IPython.display import display\n",
    "from matplotlib import pyplot as plt\n",
    "import matplotlib.pyplot as plt\n",
    "from shutil import copyfile\n",
    "import shutil\n",
    "import os"
   ]
  },
  {
   "cell_type": "markdown",
   "id": "a1ead63d",
   "metadata": {},
   "source": [
    "image ID intervals of the image categories identified in the original data set: <br>\n",
    " **Object Addition**     : 0 - 5124 <br>\n",
    " **Relationship change** : 5125 - 10127 <br>\n",
    " **Object Removal**      : 10128 - 16339 <br>\n",
    " **Attribute Change**    : 16340 - 21300<br>\n",
    " <br>\n",
    "Meaning the pairs of images with the id 0 - 5124 have an additional object in the target images, the pairs with the ids 5125 - 10127 convey a relationship change of some object, and so on. Please note that these information are supplied without guarantee. "
   ]
  },
  {
   "cell_type": "markdown",
   "id": "a31a4d62",
   "metadata": {},
   "source": [
    "The function *get_change_categories_list* creates lists of image ids, according to the category ranges. The number of selected images per category is controlled by the parameters. For the task formulation \"Is there a difference?\" (form2) it is reasonable to include images that are actually identical. "
   ]
  },
  {
   "cell_type": "code",
   "execution_count": 57,
   "id": "75e67911",
   "metadata": {},
   "outputs": [],
   "source": [
    "def get_change_categories_list(num_same_images, num_object_addition, num_relationship_change, num_attribute_change):\n",
    "    #chose number of images for each category: \n",
    "    #for the task formulation \"Is there a difference?\"\n",
    "    same_images = num_same_images\n",
    "\n",
    "    #for the task formulation \"spot the difference\"\n",
    "    object_addition = num_object_addition\n",
    "\n",
    "    #the following two change categories are used in both task formulation scenarios. The two resulting lists are just split in half\n",
    "    relationship_c_ = num_relationship_change\n",
    "    attribute_c_=num_attribute_change\n",
    "    \n",
    "    #create lists to store the indices in\n",
    "    addition_index,relationship_c_index,same_i,attribute_c_index = [],[],[],[]\n",
    "\n",
    "    #control the number of selected indices by comparing the length of the respective list to the number set via the parameter\n",
    "    while len(same_i)< same_images:\n",
    "        rem = randint(10128,16339)\n",
    "        #make sure that images are selected only once\n",
    "        if rem not in same_i: \n",
    "            same_i.append(rem)\n",
    "\n",
    "\n",
    "    while len(addition_index) <object_addition:\n",
    "        add_= randint(0,5124)\n",
    "        if add_ not in addition_index: \n",
    "            addition_index.append(add_)\n",
    "\n",
    "    while len(relationship_c_index)<relationship_c_:\n",
    "        rel = randint(5125,10127)\n",
    "        if rel not in relationship_c_index: \n",
    "            relationship_c_index.append(rel)\n",
    "\n",
    "    while len(attribute_c_index) <attribute_c_:\n",
    "        attri = randint(16339,21300)\n",
    "        if attri not in attribute_c_index:\n",
    "            attribute_c_index.append(attri)\n",
    "            \n",
    "    #return the lists of indices\n",
    "    return addition_index,relationship_c_index,same_i,attribute_c_index\n",
    "\n",
    "\n"
   ]
  },
  {
   "cell_type": "markdown",
   "id": "597e2927",
   "metadata": {},
   "source": [
    "*split_attri_and_rel_change* splits up the indices for the image categories \"attribute change\" and \"relationship change\" in half, because these categories can be used for both task formulations"
   ]
  },
  {
   "cell_type": "code",
   "execution_count": 58,
   "id": "6f304aff",
   "metadata": {},
   "outputs": [],
   "source": [
    "def split_attri_and_rel_change(attribute_c_index,relationship_c_index):\n",
    "    #split up the list with attribute changes in half\n",
    "    middle_index = len(attribute_c_index)//2\n",
    "    first_half_attri = attribute_c_index[:middle_index]\n",
    "    second_half_attri = attribute_c_index[middle_index:]\n",
    "    \n",
    "    #split up the list with relationship changes in half\n",
    "    middle_index = len(relationship_c_index)//2\n",
    "    first_half_rel = relationship_c_index[:middle_index]\n",
    "    second_half_rel = relationship_c_index[middle_index:]\n",
    "    \n",
    "    #return the split halves\n",
    "    return first_half_attri,second_half_attri,first_half_rel,second_half_rel\n"
   ]
  },
  {
   "cell_type": "markdown",
   "id": "08f65554",
   "metadata": {},
   "source": [
    "the function *create_file_paths* takes the indix lists and creates full paths to the image pairs accordingly\n"
   ]
  },
  {
   "cell_type": "code",
   "execution_count": 59,
   "id": "ecbd408d",
   "metadata": {},
   "outputs": [],
   "source": [
    "def create_file_paths(addition_index, first_half_attri,first_half_rel, same_i, second_half_attri,second_half_rel):\n",
    "    \n",
    "    #there are four paths needed: for both task formulations the images that are in the source and the target folder\n",
    "    path_form1_source,path_form1_target,path_form2_source, path_form2_target= [],[],[],[]\n",
    "    \n",
    "    #fill the lists of images for the task formulation \"Spot the difference\"\n",
    "    for a in addition_index: \n",
    "        single_line = []\n",
    "        image_path_source = ('./source/images/'+str(a)+'.png')\n",
    "        image_path_target = ('./target/images/'+str(a)+'.png')\n",
    "\n",
    "        path_form1_source.append(image_path_source)\n",
    "        path_form1_target.append(image_path_target)\n",
    "\n",
    "    for e in first_half_attri+first_half_rel:\n",
    "        image_path_source = ('./source/images/'+str(e)+'.png')\n",
    "        image_path_target = ('./target/images/'+str(e)+'.png')\n",
    "\n",
    "        path_form1_source.append(image_path_source)\n",
    "        path_form1_target.append(image_path_target)\n",
    "\n",
    "    #fill the lists of images for the task formulation \"Is there a difference\"\n",
    "    for a in same_i: \n",
    "        single_line = []\n",
    "        image_path_source = ('./source/images/'+str(a)+'.png')\n",
    "        image_path_target = ('./source/images/'+str(a)+'.png')\n",
    "\n",
    "        path_form2_source.append(image_path_source)\n",
    "        path_form2_target.append(image_path_target)\n",
    "\n",
    "    for e in second_half_attri+second_half_rel:\n",
    "        image_path_source = ('./source/images/'+str(e)+'.png')\n",
    "        image_path_target = ('./target/images/'+str(e)+'.png')\n",
    "\n",
    "        path_form2_source.append(image_path_source)\n",
    "        path_form2_target.append(image_path_target)\n",
    "    \n",
    "    #return the image pair file paths\n",
    "    return path_form1_source,path_form1_target,path_form2_source,path_form2_target"
   ]
  },
  {
   "cell_type": "markdown",
   "id": "d1258c7f",
   "metadata": {},
   "source": [
    "*copy_image_files* creates copies of the selected images into the folder \"image_selection\""
   ]
  },
  {
   "cell_type": "code",
   "execution_count": 70,
   "id": "ef6a016b",
   "metadata": {},
   "outputs": [],
   "source": [
    "def copy_image_files(path_form1_source,path_form1_target,path_form2_source,path_form2_target, basic_p):\n",
    "    #delete all image files that are currently in the path folders\n",
    "    folder_list = ['./../image_selection/form1/source','./../image_selection/form1/target','./../image_selection/form2/target','./../image_selection/form2/source']\n",
    "    for e in folder_list: \n",
    "        filelist = [ f for f in os.listdir(e)]\n",
    "        for f in filelist:\n",
    "            os.remove(os.path.join(e, f))\n",
    "            \n",
    "    basic_path = basic_p\n",
    "    \n",
    "    for e in path_form1_target: \n",
    "        source='/CLEVR_SIMSG'+e[1:]\n",
    "        target = basic_path+'image_selection/form1'+e[1:].replace(\"/images\",\"\")\n",
    "        shutil.copyfile(source,target)\n",
    "        \n",
    "    for e in path_form1_source: \n",
    "        source='/CLEVR_SIMSG'+e[1:]\n",
    "        target = basic_path+'image_selection/form1'+e[1:].replace(\"/images\",\"\")\n",
    "        shutil.copyfile(source,target)\n",
    "\n",
    "\n",
    "    for e in path_form2_source:  \n",
    "        source='/CLEVR_SIMSG'+e[1:]\n",
    "        target = basic_path+'image_selection/form2'+e[1:].replace(\"/images\",\"\")\n",
    "        shutil.copyfile(source,target)\n",
    "        \n",
    "    for e in path_form2_target: \n",
    "        source='/CLEVR_SIMSG'+e[1:]\n",
    "        #since there are identical images to be copied for the form2, the original paths are located in the \"source\" folder\n",
    "        # therefore, in order to copy the images from the source folder into a source and a target folder, \n",
    "        #the path needs to be adjusted:\n",
    "        target = basic_path+'image_selection/form2'+e[1:].replace(\"/images\",\"\").replace(\"source\",\"target\")\n",
    "        shutil.copyfile(source,target)\n",
    "\n",
    "    \n",
    "    "
   ]
  },
  {
   "cell_type": "markdown",
   "id": "c8882fe8",
   "metadata": {},
   "source": [
    "the idea behind the numbers of images per category is as follows: <br>\n",
    "For the form2, there are images and without differences required. A ratio of 50% is the simplest way to go. The list of the indices with attribute and relationship change images are split in half at a later point. \n",
    "Thus, the number of image pairs for form2 will be composed as follows: <br>\n",
    "150 image pairs of same images +<br>\n",
    "75 image pairs with relationship changes +<br>\n",
    "75 image pairs with attribute changes <br>\n",
    "<br>\n",
    "a change in the number of objects will presumably be found too easily, therefore this change type is only considered for form1.\n",
    "\n"
   ]
  },
  {
   "cell_type": "code",
   "execution_count": 79,
   "id": "4a15cc11",
   "metadata": {},
   "outputs": [],
   "source": [
    "#the order of the parameters is: number of same images, number of images with an object addition,\n",
    "# number of images with a relationship change, number of images with an attribute change\n",
    "addition_index,relationship_index,same_i,attri_index=get_change_categories_list(150,75,150,150)\n",
    "\n"
   ]
  },
  {
   "cell_type": "code",
   "execution_count": 80,
   "id": "308223b7",
   "metadata": {},
   "outputs": [],
   "source": [
    "#create halves of the index lists of attribute and relationship changes\n",
    "first_half_attri,second_half_attri,first_half_rel,second_half_rel= split_attri_and_rel_change(attri_index,relationship_index)\n"
   ]
  },
  {
   "cell_type": "code",
   "execution_count": 81,
   "id": "633c75d4",
   "metadata": {},
   "outputs": [],
   "source": [
    "#create the file paths\n",
    "path_form1_source,path_form1_target,path_form2_source,path_form2_target=create_file_paths(addition_index, first_half_attri,first_half_rel, same_i, second_half_attri,second_half_rel)\n"
   ]
  },
  {
   "cell_type": "code",
   "execution_count": 82,
   "id": "94d596bf",
   "metadata": {},
   "outputs": [],
   "source": [
    "#copy the images\n",
    "#depending on the number of images this step can take a while\n",
    "copy_image_files(path_form1_source,path_form1_target,path_form2_source,path_form2_target, 'D:/')"
   ]
  },
  {
   "cell_type": "code",
   "execution_count": null,
   "id": "067da0e1",
   "metadata": {},
   "outputs": [],
   "source": []
  }
 ],
 "metadata": {
  "kernelspec": {
   "display_name": "Python 3",
   "language": "python",
   "name": "python3"
  },
  "language_info": {
   "codemirror_mode": {
    "name": "ipython",
    "version": 3
   },
   "file_extension": ".py",
   "mimetype": "text/x-python",
   "name": "python",
   "nbconvert_exporter": "python",
   "pygments_lexer": "ipython3",
   "version": "3.7.9"
  }
 },
 "nbformat": 4,
 "nbformat_minor": 5
}
