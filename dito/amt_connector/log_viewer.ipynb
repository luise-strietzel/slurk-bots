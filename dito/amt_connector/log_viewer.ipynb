{
 "cells": [
  {
   "cell_type": "markdown",
   "metadata": {},
   "source": [
    "# Slurk Log Viewer"
   ]
  },
  {
   "cell_type": "code",
   "execution_count": 224,
   "metadata": {},
   "outputs": [],
   "source": [
    "#import packages\n",
    "import os\n",
    "import json\n",
    "import requests\n",
    "import configparser\n",
    "import sys\n",
    "from datetime import datetime"
   ]
  },
  {
   "cell_type": "markdown",
   "metadata": {},
   "source": [
    "## Choose Session (optional)"
   ]
  },
  {
   "cell_type": "code",
   "execution_count": 225,
   "metadata": {},
   "outputs": [
    {
     "name": "stdout",
     "output_type": "stream",
     "text": [
      "Session: session_240919_1\n"
     ]
    }
   ],
   "source": [
    "CONFIG = configparser.ConfigParser()\n",
    "CONFIG.read('config.ini')\n",
    "token = CONFIG['logs']['admin_token']\n",
    "uri = CONFIG['logs']['url'] # \"http://localhost/api/v2\"\n",
    "SESSION = CONFIG['session']['name'] #  \"Test_local\"\n",
    "\n",
    "print(\"Session: \" + SESSION)\n",
    "if not os.path.isdir('./logs/' + SESSION):\n",
    "    os.mkdir('./logs/' + SESSION)\n",
    "session_folder = os.path.join(\"./logs\", SESSION)"
   ]
  },
  {
   "cell_type": "markdown",
   "metadata": {},
   "source": [
    "## List Available Rooms & download logs (optional)"
   ]
  },
  {
   "cell_type": "code",
   "execution_count": 226,
   "metadata": {},
   "outputs": [
    {
     "name": "stdout",
     "output_type": "stream",
     "text": [
      "admin_room\n",
      "waiting_room\n",
      "cola-3e9262f6-de52-11e9-b351-000c29373007\n",
      "cola-eb5a4224-de52-11e9-b351-000c29373007\n",
      "cola-0ac06fb2-de53-11e9-b351-000c29373007\n",
      "cola-1592fbbc-de53-11e9-b351-000c29373007\n",
      "cola-618e2022-de54-11e9-b351-000c29373007\n",
      "cola-58c8c2d8-de56-11e9-b351-000c29373007\n",
      "cola-82f6d964-de56-11e9-b351-000c29373007\n",
      "cola-95320590-de56-11e9-b351-000c29373007\n",
      "cola-ac54d9f0-de56-11e9-b351-000c29373007\n"
     ]
    }
   ],
   "source": [
    "rooms = requests.get(f\"{uri}/rooms\", headers={'Authorization': f\"Token {token}\"})\n",
    "if not rooms.ok:\n",
    "    print(\"Could not get rooms\")\n",
    "    sys.exit(3)\n",
    "\n",
    "# go over each cola room log #\n",
    "for room in rooms.json():\n",
    "    room_name = room[\"name\"]\n",
    "    print(room_name)\n",
    "    logs = requests.get(f\"{uri}/room/{room_name}/logs\", headers={'Authorization': f\"Token {token}\"})\n",
    "    if not logs.ok:\n",
    "        print(\"Could not get logs\")\n",
    "        sys.exit(4)\n",
    "\n",
    "\n",
    "    with open('./logs/' + SESSION + '/'+ room_name +'.json', 'w') as outfile:\n",
    "        json.dump(logs.json(), outfile)"
   ]
  },
  {
   "cell_type": "markdown",
   "metadata": {},
   "source": [
    "## List Log Files (optional)"
   ]
  },
  {
   "cell_type": "code",
   "execution_count": 231,
   "metadata": {},
   "outputs": [
    {
     "name": "stdout",
     "output_type": "stream",
     "text": [
      "./logs/session_240919_1/cola-3e9262f6-de52-11e9-b351-000c29373007.json\n",
      "./logs/session_240919_1/cola-1592fbbc-de53-11e9-b351-000c29373007.json\n",
      "./logs/session_240919_1/cola-ac54d9f0-de56-11e9-b351-000c29373007.json\n",
      "./logs/session_240919_1/cola-82f6d964-de56-11e9-b351-000c29373007.json\n",
      "./logs/session_240919_1/cola-0ac06fb2-de53-11e9-b351-000c29373007.json\n",
      "./logs/session_240919_1/waiting_room.json\n",
      "./logs/session_240919_1/admin_room.json\n",
      "./logs/session_240919_1/cola-618e2022-de54-11e9-b351-000c29373007.json\n",
      "./logs/session_240919_1/cola-eb5a4224-de52-11e9-b351-000c29373007.json\n",
      "./logs/session_240919_1/cola-58c8c2d8-de56-11e9-b351-000c29373007.json\n",
      "./logs/session_240919_1/cola-95320590-de56-11e9-b351-000c29373007.json\n"
     ]
    }
   ],
   "source": [
    "onlyfiles = [f for f in os.listdir(session_folder) if os.path.isfile(os.path.join(session_folder, f))]\n",
    "for log_file in onlyfiles:\n",
    "    print(os.path.join(session_folder, log_file))"
   ]
  },
  {
   "cell_type": "markdown",
   "metadata": {},
   "source": [
    "## Show Logs"
   ]
  },
  {
   "cell_type": "code",
   "execution_count": 233,
   "metadata": {},
   "outputs": [
    {
     "name": "stdout",
     "output_type": "stream",
     "text": [
      "Log: cola-1592fbbc-de53-11e9-b351-000c29373007.json\n",
      "2019-09-24 01:05:06 - frightened - cola-95320590-de56-11e9-b351-000c29373007 - join - \n",
      "2019-09-24 01:05:06 - petite - cola-95320590-de56-11e9-b351-000c29373007 - join - \n",
      "2019-09-24 01:05:06 - Cola Bot - cola-95320590-de56-11e9-b351-000c29373007 - join - \n",
      "2019-09-24 01:05:06 - Cola Bot - cola-95320590-de56-11e9-b351-000c29373007 - text_message -  **Welcome to the CoLa Game!** Discussion and providing reason(s) for your answer is crucial for this game.\n",
      "2019-09-24 01:05:06 - Cola Bot - cola-95320590-de56-11e9-b351-000c29373007 - text_message -  Remember the following commands to play the game:   (1) Propose answer to your partner: Type \"/answer ...your description here...\".   (2) Agree on the answer proposed by your partner: Type \"/agree\".\n",
      "2019-09-24 01:05:06 - Cola Bot - cola-95320590-de56-11e9-b351-000c29373007 - text_message - Please type **/ready** to begin the game.\n",
      "2019-09-24 01:05:18 - frightened - cola-95320590-de56-11e9-b351-000c29373007 - command - ready\n",
      "2019-09-24 01:05:18 - Cola Bot - cola-95320590-de56-11e9-b351-000c29373007 - text_message - Now, waiting for your partner to type /ready. \n",
      "2019-09-24 01:05:41 - petite - cola-95320590-de56-11e9-b351-000c29373007 - command - ready\n",
      "2019-09-24 01:05:41 - Cola Bot - cola-95320590-de56-11e9-b351-000c29373007 - text_message - Woo-Hoo! Game begins now. \n",
      "2019-09-24 01:05:41 - Cola Bot - cola-95320590-de56-11e9-b351-000c29373007 - set_attribute - current-image - src - http://141.89.97.91/static/images/upper_left_red_4_2.jpg\n",
      "2019-09-24 01:05:41 - Cola Bot - cola-95320590-de56-11e9-b351-000c29373007 - set_text - Based on the examples that are shown for class A, discuss whether the question example belongs to it or not.     Try to come to a common conclusion. Then, one of you must propose your joint answer, together with the justification.   A proposal starts with \"/answer\", and then the text. For example: *\"/answer it does not belong to A, because there is a yellow block and A has only red or black blocks\".*  The other player must then type \"/agree\", to show that this answer is indeed the joint answer.   You can keep discussing after a proposal has been made, but the round only ends once one of you has typed a proposal and the other has agreed to it.\n",
      "2019-09-24 01:06:19 - petite - cola-95320590-de56-11e9-b351-000c29373007 - text_message - hi\n",
      "2019-09-24 01:06:39 - frightened - cola-95320590-de56-11e9-b351-000c29373007 - text_message - Hi\n",
      "2019-09-24 01:07:01 - petite - cola-95320590-de56-11e9-b351-000c29373007 - text_message - what do you think? do you think it belongs or not?\n",
      "2019-09-24 01:07:30 - frightened - cola-95320590-de56-11e9-b351-000c29373007 - command - answer: it belongs to class A because it has a red block in the upper left corner\n",
      "2019-09-24 01:07:31 - Cola Bot - cola-95320590-de56-11e9-b351-000c29373007 - text_message - The current proposal from frightened is **\"it belongs to class A because it has a red block in the upper left corner\"** \n",
      "2019-09-24 01:07:31 - Cola Bot - cola-95320590-de56-11e9-b351-000c29373007 - text_message - Do you agree with your partner's answer? If not, please continue the discussion.\n",
      "2019-09-24 01:08:07 - petite - cola-95320590-de56-11e9-b351-000c29373007 - text_message - it does not match number 5 and 6\n",
      "2019-09-24 01:08:24 - frightened - cola-95320590-de56-11e9-b351-000c29373007 - text_message - 5 and 6 are examples of NOT class A\n",
      "2019-09-24 01:08:34 - petite - cola-95320590-de56-11e9-b351-000c29373007 - text_message - oh\n",
      "2019-09-24 01:08:51 - frightened - cola-95320590-de56-11e9-b351-000c29373007 - text_message - I can't think of what else it might be\n",
      "2019-09-24 01:09:05 - frightened - cola-95320590-de56-11e9-b351-000c29373007 - text_message - But let me know if you have other ideas :)\n",
      "2019-09-24 01:09:25 - petite - cola-95320590-de56-11e9-b351-000c29373007 - text_message - the rest of them have a total of 5 then 6 then 6 then 4 red squares\n",
      "2019-09-24 01:09:46 - petite - cola-95320590-de56-11e9-b351-000c29373007 - text_message - Ii think it belongs because it has 6 red squares\n",
      "2019-09-24 01:10:14 - petite - cola-95320590-de56-11e9-b351-000c29373007 - text_message - number 2 has 6 red squares\n",
      "2019-09-24 01:10:41 - Cola Bot - cola-95320590-de56-11e9-b351-000c29373007 - text_message - You both seem to be having a discussion for a long time. Could you reach an agreement and provide an answer?\n",
      "2019-09-24 01:10:49 - frightened - cola-95320590-de56-11e9-b351-000c29373007 - text_message - I like mine better, sorry\n",
      "2019-09-24 01:11:05 - petite - cola-95320590-de56-11e9-b351-000c29373007 - command - answer: It belongs to class A because it has 6 red squares and has a red square in the upper left hand corner\n",
      "2019-09-24 01:11:05 - Cola Bot - cola-95320590-de56-11e9-b351-000c29373007 - text_message - The current proposal from petite is **\"It belongs to class A because it has 6 red squares and has a red square in the upper left hand corner\"** \n",
      "2019-09-24 01:11:05 - Cola Bot - cola-95320590-de56-11e9-b351-000c29373007 - text_message - Do you agree with your partner's answer? If not, please continue the discussion.\n",
      "2019-09-24 01:11:22 - frightened - cola-95320590-de56-11e9-b351-000c29373007 - command - agree\n",
      "2019-09-24 01:11:22 - Cola Bot - cola-95320590-de56-11e9-b351-000c29373007 - text_message - Bravo! You have now moved to the next round. \n",
      "2019-09-24 01:11:22 - Cola Bot - cola-95320590-de56-11e9-b351-000c29373007 - set_attribute - current-image - src - http://141.89.97.91/static/images/diagonal_red_4_4.jpg\n",
      "2019-09-24 01:11:22 - Cola Bot - cola-95320590-de56-11e9-b351-000c29373007 - set_text - Based on the examples that are shown for class A, discuss whether the question example belongs to it or not.     Try to come to a common conclusion. Then, one of you must propose your joint answer, together with the justification.   A proposal starts with \"/answer\", and then the text. For example: *\"/answer it does not belong to A, because there is a yellow block and A has only red or black blocks\".*  The other player must then type \"/agree\", to show that this answer is indeed the joint answer.   You can keep discussing after a proposal has been made, but the round only ends once one of you has typed a proposal and the other has agreed to it.\n",
      "2019-09-24 01:11:59 - petite - cola-95320590-de56-11e9-b351-000c29373007 - text_message - how do I go next\n",
      "2019-09-24 01:12:18 - petite - cola-95320590-de56-11e9-b351-000c29373007 - command - agree\n",
      "2019-09-24 01:12:18 - Cola Bot - cola-95320590-de56-11e9-b351-000c29373007 - text_message - This command cannot be processed. You have not started discussion with your partner. You have to propose answers to each other and reach an agreement. \n",
      "2019-09-24 01:12:23 - frightened - cola-95320590-de56-11e9-b351-000c29373007 - text_message - what do you mean?\n",
      "2019-09-24 01:12:36 - petite - cola-95320590-de56-11e9-b351-000c29373007 - text_message - did you agree yet?\n",
      "2019-09-24 01:12:56 - frightened - cola-95320590-de56-11e9-b351-000c29373007 - text_message - To the first one, yes. We are on the second one. They just look very similar\n",
      "2019-09-24 01:13:00 - petite - cola-95320590-de56-11e9-b351-000c29373007 - text_message - oh\n",
      "2019-09-24 01:13:24 - petite - cola-95320590-de56-11e9-b351-000c29373007 - text_message - yes they do\n",
      "2019-09-24 01:13:29 - frightened - cola-95320590-de56-11e9-b351-000c29373007 - text_message - I think that class A has a black block in the middle left corner. So it doesn't belong\n",
      "2019-09-24 01:13:49 - petite - cola-95320590-de56-11e9-b351-000c29373007 - text_message - makes sense\n",
      "2019-09-24 01:13:57 - petite - cola-95320590-de56-11e9-b351-000c29373007 - text_message - propose it\n",
      "2019-09-24 01:14:26 - frightened - cola-95320590-de56-11e9-b351-000c29373007 - command - answer: it belongs to class A because it has a black block in the middle left position.\n",
      "2019-09-24 01:14:26 - Cola Bot - cola-95320590-de56-11e9-b351-000c29373007 - text_message - The current proposal from frightened is **\"it belongs to class A because it has a black block in the middle left position.\"** \n",
      "2019-09-24 01:14:26 - Cola Bot - cola-95320590-de56-11e9-b351-000c29373007 - text_message - Do you agree with your partner's answer? If not, please continue the discussion.\n",
      "2019-09-24 01:14:30 - petite - cola-95320590-de56-11e9-b351-000c29373007 - command - agree\n",
      "2019-09-24 01:14:30 - Cola Bot - cola-95320590-de56-11e9-b351-000c29373007 - text_message - The game is over! Thank you for your participation! \n",
      "2019-09-24 01:14:30 - Cola Bot - cola-95320590-de56-11e9-b351-000c29373007 - text_message - Please enter the following token into the field on the HIT webpage, and close this browser window. \n",
      "2019-09-24 01:14:30 - Cola Bot - cola-95320590-de56-11e9-b351-000c29373007 - confirmation_log - success\n",
      "2019-09-24 01:14:30 - Cola Bot - cola-95320590-de56-11e9-b351-000c29373007 - text_message - Here's your token: B8ECAI\n",
      "2019-09-24 01:14:58 - frightened - cola-95320590-de56-11e9-b351-000c29373007 - leave - \n",
      "2019-09-24 01:14:58 - Cola Bot - cola-95320590-de56-11e9-b351-000c29373007 - text_message - frightened has left the game. Please wait a bit, your partner may rejoin.\n",
      "2019-09-24 01:15:15 - petite - cola-95320590-de56-11e9-b351-000c29373007 - leave - \n",
      "2019-09-24 01:15:15 - Cola Bot - cola-95320590-de56-11e9-b351-000c29373007 - text_message - petite has left the game. Please wait a bit, your partner may rejoin.\n"
     ]
    }
   ],
   "source": [
    "log_file = \"./logs/session_240919_1/cola-95320590-de56-11e9-b351-000c29373007.json\"\n",
    "print(\"Log: \" + log_name)\n",
    "\n",
    "with open(log_file) as json_file:\n",
    "    logs = json.load(json_file)\n",
    "\n",
    "# go over each type of chat - process text and commands\n",
    "# and write them to a file.\n",
    "for log_entry in logs:\n",
    "    starter_str = str(datetime.fromtimestamp(log_entry['date_created'])) \\\n",
    "                  + \" - \" \\\n",
    "                  + log_entry['user']['name'] \\\n",
    "                  + \" - \" \\\n",
    "                  + log_entry['room']\\\n",
    "                  + ' - ' \\\n",
    "                  + log_entry['event'] \\\n",
    "                  + \" - \"\n",
    "    if log_entry['event'] == \"text_message\":\n",
    "        chat_str = starter_str + log_entry['message'].replace('\\n', ' ')\n",
    "    elif log_entry['event'] == 'command':\n",
    "        if log_entry[\"command\"].startswith('answer'):\n",
    "            data_str = \"\".join(log_entry[\"data\"][\"command\"].split(\"answer\")[1:]).strip()\n",
    "            chat_str = starter_str + 'answer: '+ data_str\n",
    "        elif log_entry[\"command\"] == 'agree':\n",
    "            data_str = ' '.join(log_entry['data'])\n",
    "            chat_str = starter_str + 'agree'\n",
    "        elif log_entry['command'] == 'ready':\n",
    "            chat_str = starter_str + 'ready'\n",
    "    elif log_entry['event'] == 'join':\n",
    "        chat_str = starter_str \n",
    "    elif log_entry['event'] == 'leave':\n",
    "        chat_str = starter_str\n",
    "    elif log_entry['event'] == 'set_attribute':\n",
    "        chat_str = starter_str + log_entry['id'] + ' - ' + log_entry['attribute'] + ' - '+ log_entry['value']\n",
    "    elif log_entry['event'] == 'set_text':\n",
    "        chat_str = starter_str + log_entry['text'].replace('\\n', ' ')\n",
    "    elif log_entry['event'] == 'confirmation_log':\n",
    "        chat_str = starter_str + log_entry['status_txt']\n",
    "    else:\n",
    "        print(log_entry)\n",
    "\n",
    "    print(chat_str)"
   ]
  },
  {
   "cell_type": "code",
   "execution_count": null,
   "metadata": {},
   "outputs": [],
   "source": []
  },
  {
   "cell_type": "code",
   "execution_count": null,
   "metadata": {},
   "outputs": [],
   "source": []
  },
  {
   "cell_type": "code",
   "execution_count": null,
   "metadata": {},
   "outputs": [],
   "source": []
  }
 ],
 "metadata": {
  "kernelspec": {
   "display_name": "Python 3",
   "language": "python",
   "name": "python3"
  },
  "language_info": {
   "codemirror_mode": {
    "name": "ipython",
    "version": 3
   },
   "file_extension": ".py",
   "mimetype": "text/x-python",
   "name": "python",
   "nbconvert_exporter": "python",
   "pygments_lexer": "ipython3",
   "version": "3.7.3"
  }
 },
 "nbformat": 4,
 "nbformat_minor": 4
}
